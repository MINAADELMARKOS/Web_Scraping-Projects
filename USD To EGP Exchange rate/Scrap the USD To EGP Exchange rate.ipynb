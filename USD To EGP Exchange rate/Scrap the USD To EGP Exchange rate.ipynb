{
 "cells": [
  {
   "attachments": {},
   "cell_type": "markdown",
   "id": "e119cc36",
   "metadata": {},
   "source": [
    "# **Scrap the USD To EGP Exchange Rate**\n",
    "\n",
    "\n",
    "\n",
    "## **Exchange Rates**\n",
    "\n",
    "\n",
    "\n",
    "The dollar exchange rate compares its value to the currencies of other countries. It allows you to determine how much of a particular currency you can exchange for a dollar. The most popular exchange rate measurement is the U.S. Dollar Index.\n",
    "\n",
    "These rates change every day because currencies are traded on the foreign exchange (\"forex\") market. A currency's forex value depends on several factors, including:\n",
    "\n",
    "- Central bank interest rates\n",
    "\n",
    "- The country's debt levels\n",
    "\n",
    "- The strength of the economy\n",
    "When these factors are strong, so is the value of the currency. Most countries have a flexible exchange rate and allow forex trading to determine the value of their currencies.\n",
    "\n",
    "The Federal Reserve has many monetary tools that can influence the strength of the dollar. These tools allow the government to regulate exchange rates, albeit indirectly.\n",
    "\n",
    "The U.S. dollar rate shows the value of the dollar in comparison to other currencies, including the Indian rupee, Japanese yen, Canadian dollar, and British pound. Below, you can track the dollar's value as measured by the euro since 2002.\n",
    "\n",
    "<center>\n",
    "<img align=\"center\" src=\"doll.png\"     style=\" width:600px; padding: 20px; \" > \n",
    "<center>\n"
   ]
  },
  {
   "attachments": {},
   "cell_type": "markdown",
   "id": "2c4fab28",
   "metadata": {},
   "source": [
    "## importing Libraries"
   ]
  },
  {
   "cell_type": "code",
   "execution_count": 1,
   "id": "4b8a9e09",
   "metadata": {},
   "outputs": [],
   "source": [
    "from selenium import webdriver\n",
    "from selenium.webdriver.common.keys import Keys\n",
    "from selenium.webdriver.common.by import By\n",
    "import time\n",
    "from selenium.webdriver.support.ui import WebDriverWait\n",
    "from selenium.webdriver.support import expected_conditions as EC\n",
    "\n",
    "from bs4 import BeautifulSoup\n",
    "import itertools\n",
    "from itertools import zip_longest\n",
    "import csv\n",
    "import pandas as pd \n",
    "\n",
    "\n",
    "from selenium.webdriver.chrome.service import Service\n",
    "from webdriver_manager.chrome import ChromeDriverManager\n",
    "\n",
    "PATH=\"C:\\Program Files (x86)\\chromedriver.exe\""
   ]
  },
  {
   "cell_type": "code",
   "execution_count": 2,
   "id": "99ade84a",
   "metadata": {},
   "outputs": [
    {
     "name": "stderr",
     "output_type": "stream",
     "text": [
      "C:\\Users\\Mina\\AppData\\Local\\Temp\\ipykernel_18324\\1767501191.py:3: DeprecationWarning: executable_path has been deprecated, please pass in a Service object\n",
      "  driver = webdriver.Chrome(ChromeDriverManager().install())\n"
     ]
    },
    {
     "name": "stdout",
     "output_type": "stream",
     "text": [
      "Dollar to Egyptian Pound Exchange Rate Today, Live 1 USD to EGP = 26.2975 (Convert Dollars to Egyptian Pounds)\n"
     ]
    }
   ],
   "source": [
    "title=[]\n",
    "\n",
    "driver = webdriver.Chrome(ChromeDriverManager().install())\n",
    "driver.maximize_window()\n",
    "\n",
    "driver.get(\"https://www.exchangerates.org.uk/Dollars-to-Egyptian-Pounds-currency-conversion-page.html\")\n",
    "print(driver.title)\n",
    "\n",
    "dollar_con=[]\n",
    "pound=[]\n",
    "pound_conv=[]\n",
    "dollr=[]\n",
    "\n",
    "data=[]\n",
    "\n",
    "matches=driver.find_elements(By.TAG_NAME, \"tr\")[15:29]\n",
    "\n",
    "for match in matches:\n",
    "    one=match.find_element(By.XPATH, \"./td[1]\").text\n",
    "    two=match.find_element(By.XPATH, \"./td[2]\").text\n",
    "    three=match.find_element(By.XPATH, \"./td[3]\").text\n",
    "    four=match.find_element(By.XPATH, \"./td[4]\").text\n",
    "\n",
    "    dollar_con.append(one)\n",
    "    pound.append(two)\n",
    "    pound_conv.append(three)\n",
    "    dollr.append(four)\n",
    "    data.append([one,two,three,four])\n"
   ]
  },
  {
   "cell_type": "code",
   "execution_count": 3,
   "id": "c00428a8",
   "metadata": {},
   "outputs": [],
   "source": [
    "current_value=float(two.split(\" \")[0])*.0001"
   ]
  },
  {
   "cell_type": "code",
   "execution_count": 4,
   "id": "14011b0f",
   "metadata": {},
   "outputs": [
    {
     "data": {
      "text/plain": [
       "26.29754116"
      ]
     },
     "execution_count": 4,
     "metadata": {},
     "output_type": "execute_result"
    }
   ],
   "source": [
    "current_value"
   ]
  },
  {
   "cell_type": "code",
   "execution_count": 5,
   "id": "6cdd0985",
   "metadata": {},
   "outputs": [],
   "source": [
    "exchangerates_data = pd.DataFrame(data, columns=[\"Dollar :: Convert\",\"To Egyption Pound\",\"Pound :: Convert\",\"To USA Dollar\"])\n",
    "\n",
    "exchangerates_data_full = pd.DataFrame(\n",
    "    {'Dollar :: Convert': dollar_con,\n",
    "     'To Egyption Pound': pound,\n",
    "     'Pound :: Convert': pound_conv,\n",
    "     'To USA Dollar':dollr\n",
    "    })  "
   ]
  },
  {
   "cell_type": "code",
   "execution_count": 6,
   "id": "e387edc1",
   "metadata": {},
   "outputs": [
    {
     "data": {
      "text/html": [
       "<div>\n",
       "<style scoped>\n",
       "    .dataframe tbody tr th:only-of-type {\n",
       "        vertical-align: middle;\n",
       "    }\n",
       "\n",
       "    .dataframe tbody tr th {\n",
       "        vertical-align: top;\n",
       "    }\n",
       "\n",
       "    .dataframe thead th {\n",
       "        text-align: right;\n",
       "    }\n",
       "</style>\n",
       "<table border=\"1\" class=\"dataframe\">\n",
       "  <thead>\n",
       "    <tr style=\"text-align: right;\">\n",
       "      <th></th>\n",
       "      <th>Dollar :: Convert</th>\n",
       "      <th>To Egyption Pound</th>\n",
       "      <th>Pound :: Convert</th>\n",
       "      <th>To USA Dollar</th>\n",
       "    </tr>\n",
       "  </thead>\n",
       "  <tbody>\n",
       "    <tr>\n",
       "      <th>0</th>\n",
       "      <td>1 USD</td>\n",
       "      <td>26.2975 EGP</td>\n",
       "      <td>1 EGP</td>\n",
       "      <td>0.038 USD</td>\n",
       "    </tr>\n",
       "    <tr>\n",
       "      <th>1</th>\n",
       "      <td>2 USD</td>\n",
       "      <td>52.5951 EGP</td>\n",
       "      <td>2 EGP</td>\n",
       "      <td>0.0761 USD</td>\n",
       "    </tr>\n",
       "    <tr>\n",
       "      <th>2</th>\n",
       "      <td>5 USD</td>\n",
       "      <td>131.4877 EGP</td>\n",
       "      <td>5 EGP</td>\n",
       "      <td>0.1901 USD</td>\n",
       "    </tr>\n",
       "    <tr>\n",
       "      <th>3</th>\n",
       "      <td>10 USD</td>\n",
       "      <td>262.9754 EGP</td>\n",
       "      <td>10 EGP</td>\n",
       "      <td>0.3803 USD</td>\n",
       "    </tr>\n",
       "    <tr>\n",
       "      <th>4</th>\n",
       "      <td>15 USD</td>\n",
       "      <td>394.4631 EGP</td>\n",
       "      <td>15 EGP</td>\n",
       "      <td>0.5704 USD</td>\n",
       "    </tr>\n",
       "    <tr>\n",
       "      <th>5</th>\n",
       "      <td>20 USD</td>\n",
       "      <td>525.9508 EGP</td>\n",
       "      <td>20 EGP</td>\n",
       "      <td>0.7605 USD</td>\n",
       "    </tr>\n",
       "    <tr>\n",
       "      <th>6</th>\n",
       "      <td>25 USD</td>\n",
       "      <td>657.4385 EGP</td>\n",
       "      <td>25 EGP</td>\n",
       "      <td>0.9507 USD</td>\n",
       "    </tr>\n",
       "    <tr>\n",
       "      <th>7</th>\n",
       "      <td>50 USD</td>\n",
       "      <td>1314.8771 EGP</td>\n",
       "      <td>50 EGP</td>\n",
       "      <td>1.9013 USD</td>\n",
       "    </tr>\n",
       "    <tr>\n",
       "      <th>8</th>\n",
       "      <td>100 USD</td>\n",
       "      <td>2629.7541 EGP</td>\n",
       "      <td>100 EGP</td>\n",
       "      <td>3.8026 USD</td>\n",
       "    </tr>\n",
       "    <tr>\n",
       "      <th>9</th>\n",
       "      <td>500 USD</td>\n",
       "      <td>13148.7706 EGP</td>\n",
       "      <td>500 EGP</td>\n",
       "      <td>19.0132 USD</td>\n",
       "    </tr>\n",
       "    <tr>\n",
       "      <th>10</th>\n",
       "      <td>1000 USD</td>\n",
       "      <td>26297.5412 EGP</td>\n",
       "      <td>1000 EGP</td>\n",
       "      <td>38.0264 USD</td>\n",
       "    </tr>\n",
       "    <tr>\n",
       "      <th>11</th>\n",
       "      <td>2500 USD</td>\n",
       "      <td>65743.8529 EGP</td>\n",
       "      <td>2500 EGP</td>\n",
       "      <td>95.0659 USD</td>\n",
       "    </tr>\n",
       "    <tr>\n",
       "      <th>12</th>\n",
       "      <td>5000 USD</td>\n",
       "      <td>131487.7058 EGP</td>\n",
       "      <td>5000 EGP</td>\n",
       "      <td>190.1318 USD</td>\n",
       "    </tr>\n",
       "    <tr>\n",
       "      <th>13</th>\n",
       "      <td>10000 USD</td>\n",
       "      <td>262975.4116 EGP</td>\n",
       "      <td>10000 EGP</td>\n",
       "      <td>380.2637 USD</td>\n",
       "    </tr>\n",
       "  </tbody>\n",
       "</table>\n",
       "</div>"
      ],
      "text/plain": [
       "   Dollar :: Convert To Egyption Pound Pound :: Convert To USA Dollar\n",
       "0              1 USD       26.2975 EGP            1 EGP     0.038 USD\n",
       "1              2 USD       52.5951 EGP            2 EGP    0.0761 USD\n",
       "2              5 USD      131.4877 EGP            5 EGP    0.1901 USD\n",
       "3             10 USD      262.9754 EGP           10 EGP    0.3803 USD\n",
       "4             15 USD      394.4631 EGP           15 EGP    0.5704 USD\n",
       "5             20 USD      525.9508 EGP           20 EGP    0.7605 USD\n",
       "6             25 USD      657.4385 EGP           25 EGP    0.9507 USD\n",
       "7             50 USD     1314.8771 EGP           50 EGP    1.9013 USD\n",
       "8            100 USD     2629.7541 EGP          100 EGP    3.8026 USD\n",
       "9            500 USD    13148.7706 EGP          500 EGP   19.0132 USD\n",
       "10          1000 USD    26297.5412 EGP         1000 EGP   38.0264 USD\n",
       "11          2500 USD    65743.8529 EGP         2500 EGP   95.0659 USD\n",
       "12          5000 USD   131487.7058 EGP         5000 EGP  190.1318 USD\n",
       "13         10000 USD   262975.4116 EGP        10000 EGP  380.2637 USD"
      ]
     },
     "execution_count": 6,
     "metadata": {},
     "output_type": "execute_result"
    }
   ],
   "source": [
    "exchangerates_data_full"
   ]
  },
  {
   "cell_type": "code",
   "execution_count": 7,
   "id": "403567aa",
   "metadata": {},
   "outputs": [
    {
     "name": "stdout",
     "output_type": "stream",
     "text": [
      "This Programme for calvulate the Money from Dollars in EGP\n",
      "Your Money is : 11833.89 EGP \n"
     ]
    }
   ],
   "source": [
    "print(\"This Programme for calvulate the Money from Dollars in EGP\")\n",
    "\n",
    "mount=int(input(\"Please entre your Money you want convert : \"))\n",
    "money=mount*current_value\n",
    "money=round(money,2) \n",
    "print(f\"Your Money is : {money} EGP \")"
   ]
  }
 ],
 "metadata": {
  "kernelspec": {
   "display_name": "Python 3 (ipykernel)",
   "language": "python",
   "name": "python3"
  },
  "language_info": {
   "codemirror_mode": {
    "name": "ipython",
    "version": 3
   },
   "file_extension": ".py",
   "mimetype": "text/x-python",
   "name": "python",
   "nbconvert_exporter": "python",
   "pygments_lexer": "ipython3",
   "version": "3.10.2 (tags/v3.10.2:a58ebcc, Jan 17 2022, 14:12:15) [MSC v.1929 64 bit (AMD64)]"
  },
  "vscode": {
   "interpreter": {
    "hash": "f9065522c5e63990a2bf11f30131faddea3a926c56ec45e0063eb1269689bc0d"
   }
  }
 },
 "nbformat": 4,
 "nbformat_minor": 5
}
